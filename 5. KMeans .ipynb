{
 "cells": [
  {
   "cell_type": "code",
   "execution_count": 1,
   "metadata": {},
   "outputs": [],
   "source": [
    "%matplotlib inline\n",
    "\n",
    "import numpy as np\n",
    "import pandas as pd\n",
    "import matplotlib.pyplot as plt"
   ]
  },
  {
   "cell_type": "code",
   "execution_count": 2,
   "metadata": {},
   "outputs": [],
   "source": [
    "from sklearn.cluster import KMeans\n",
    "from sklearn.metrics import silhouette_score\n",
    "from sklearn.preprocessing import MinMaxScaler"
   ]
  },
  {
   "cell_type": "code",
   "execution_count": 6,
   "metadata": {},
   "outputs": [],
   "source": [
    "train = pd.read_csv('training_ready.csv')"
   ]
  },
  {
   "cell_type": "code",
   "execution_count": 7,
   "metadata": {},
   "outputs": [
    {
     "name": "stdout",
     "output_type": "stream",
     "text": [
      "<class 'pandas.core.frame.DataFrame'>\n",
      "RangeIndex: 72983 entries, 0 to 72982\n",
      "Data columns (total 18 columns):\n",
      " #   Column           Non-Null Count  Dtype  \n",
      "---  ------           --------------  -----  \n",
      " 0   IsBadBuy         72983 non-null  int64  \n",
      " 1   Auction          72983 non-null  int64  \n",
      " 2   VehicleAge       72983 non-null  int64  \n",
      " 3   WheelType        72983 non-null  object \n",
      " 4   VehOdo           72983 non-null  int64  \n",
      " 5   Nationality      72983 non-null  object \n",
      " 6   VehBCost         72983 non-null  float64\n",
      " 7   WarrantyCost     72983 non-null  int64  \n",
      " 8   OutCost          72983 non-null  int64  \n",
      " 9   VehOdo_Standard  72983 non-null  float64\n",
      " 10  AverageMMR       72983 non-null  float64\n",
      " 11  Make_new         72983 non-null  object \n",
      " 12  VNST_new         72983 non-null  object \n",
      " 13  Size_class       72983 non-null  int64  \n",
      " 14  Model_Name       72983 non-null  object \n",
      " 15  Model_Property   72983 non-null  object \n",
      " 16  SubModel_New     72983 non-null  object \n",
      " 17  Trim_New         72983 non-null  object \n",
      "dtypes: float64(3), int64(7), object(8)\n",
      "memory usage: 10.0+ MB\n"
     ]
    }
   ],
   "source": [
    "train.info()"
   ]
  },
  {
   "cell_type": "markdown",
   "metadata": {},
   "source": [
    "# K-Means"
   ]
  },
  {
   "cell_type": "code",
   "execution_count": 11,
   "metadata": {},
   "outputs": [],
   "source": [
    "train2 = train"
   ]
  },
  {
   "cell_type": "code",
   "execution_count": 12,
   "metadata": {},
   "outputs": [],
   "source": [
    "X = train2[[\"VehicleAge\", \"VehOdo\", \"VehBCost\", \"WarrantyCost\", \"AverageMMR\", \"Size_class\"]].values"
   ]
  },
  {
   "cell_type": "code",
   "execution_count": 13,
   "metadata": {},
   "outputs": [],
   "source": [
    "scaler = MinMaxScaler()\n",
    "X = scaler.fit_transform(X)"
   ]
  },
  {
   "cell_type": "code",
   "execution_count": 14,
   "metadata": {},
   "outputs": [
    {
     "data": {
      "text/plain": [
       "array([[0.25      , 0.75948671, 0.15613178, 0.09252416, 0.28440011,\n",
       "        0.11111111],\n",
       "       [0.5       , 0.80049057, 0.16712853, 0.08399659, 0.25469668,\n",
       "        1.        ],\n",
       "       [0.375     , 0.62206471, 0.10774611, 0.13175099, 0.15372872,\n",
       "        0.11111111],\n",
       "       ...,\n",
       "       [0.375     , 0.754563  , 0.18032462, 0.2033826 , 0.25984905,\n",
       "        0.66666667],\n",
       "       [0.25      , 0.67388991, 0.15393244, 0.21489483, 0.19852733,\n",
       "        0.22222222],\n",
       "       [0.25      , 0.55937308, 0.17592593, 0.1209494 , 0.22976397,\n",
       "        0.11111111]])"
      ]
     },
     "execution_count": 14,
     "metadata": {},
     "output_type": "execute_result"
    }
   ],
   "source": [
    "X"
   ]
  },
  {
   "cell_type": "code",
   "execution_count": 17,
   "metadata": {},
   "outputs": [],
   "source": [
    "sse_list = list()\n",
    "max_k = 35\n",
    "for k in range(2, max_k + 1):\n",
    "    kmeans = KMeans(n_clusters=k, n_init=10, max_iter=100)\n",
    "    kmeans.fit(X)\n",
    "    sse = kmeans.inertia_\n",
    "    sse_list.append(sse)"
   ]
  },
  {
   "cell_type": "code",
   "execution_count": 18,
   "metadata": {},
   "outputs": [
    {
     "data": {
      "image/png": "[encoded data removed]",
      "text/plain": [
       "<Figure size 432x288 with 1 Axes>"
      ]
     },
     "metadata": {
      "needs_background": "dark"
     },
     "output_type": "display_data"
    }
   ],
   "source": [
    "plt.plot(range(2, len(sse_list) + 2), sse_list)\n",
    "plt.ylabel('SSE', fontsize=22)\n",
    "plt.xlabel('K', fontsize=22)\n",
    "plt.xticks(np.arange(0, 50, 5))\n",
    "plt.tick_params(axis='both', which='major', labelsize=22)\n",
    "plt.show()"
   ]
  },
  {
   "cell_type": "code",
   "execution_count": 19,
   "metadata": {},
   "outputs": [
    {
     "name": "stdout",
     "output_type": "stream",
     "text": [
      "[(3, -0.26129197336658505), (7, -0.1044821024080973), (9, -0.06687319227696109), (11, -0.0545837183065615), (14, -0.04327073999819442), (16, -0.03927890273644008), (18, -0.038023281853342694), (21, -0.028233655983437744), (26, -0.02283531868141664), (33, -0.01885613652971385)]\n"
     ]
    }
   ],
   "source": [
    "dec_list=[]\n",
    "k_list=[]\n",
    "for i in range(1, len(sse_list)):\n",
    "    k = i+2\n",
    "    gain = sse_list[i]/sse_list[i-1]-1\n",
    "    dec=(k, gain)\n",
    "    dec_list.append(dec)\n",
    "    if (dec_list[i-2][1]/gain)>1.2:\n",
    "        k_list.append(dec_list[i-2])\n",
    "    else:\n",
    "        continue\n",
    "\n",
    "print(k_list)"
   ]
  },
  {
   "cell_type": "code",
   "execution_count": 20,
   "metadata": {},
   "outputs": [
    {
     "data": {
      "text/plain": [
       "KMeans(algorithm='auto', copy_x=True, init='k-means++', max_iter=100,\n",
       "       n_clusters=7, n_init=10, n_jobs=None, precompute_distances='auto',\n",
       "       random_state=1, tol=0.0001, verbose=0)"
      ]
     },
     "execution_count": 20,
     "metadata": {},
     "output_type": "execute_result"
    }
   ],
   "source": [
    "kmeans = KMeans(n_clusters = 7, n_init=10, max_iter = 100, random_state = 1)\n",
    "kmeans.fit(X)"
   ]
  },
  {
   "cell_type": "code",
   "execution_count": 21,
   "metadata": {},
   "outputs": [
    {
     "data": {
      "text/plain": [
       "array([[0.72347565, 0.65842476, 0.10820666, 0.14592628, 0.12786254,\n",
       "        0.11476132],\n",
       "       [0.29311726, 0.62580746, 0.16668155, 0.14692905, 0.26073666,\n",
       "        0.55379949],\n",
       "       [0.49595954, 0.65366017, 0.18888094, 0.08895777, 0.25601258,\n",
       "        0.95541993],\n",
       "       [0.16174874, 0.42101384, 0.15220829, 0.05016953, 0.22305823,\n",
       "        0.10513771],\n",
       "       [0.62461289, 0.65457432, 0.1559085 , 0.17833471, 0.19408504,\n",
       "        0.60581641],\n",
       "       [0.22929585, 0.65029342, 0.16282884, 0.1385618 , 0.25728419,\n",
       "        0.18314863],\n",
       "       [0.43450146, 0.60032368, 0.1263294 , 0.08150108, 0.16990809,\n",
       "        0.10221772]])"
      ]
     },
     "execution_count": 21,
     "metadata": {},
     "output_type": "execute_result"
    }
   ],
   "source": [
    "kmeans.cluster_centers_"
   ]
  },
  {
   "cell_type": "code",
   "execution_count": 22,
   "metadata": {},
   "outputs": [
    {
     "data": {
      "text/plain": [
       "array([[6.78780519e+00, 7.78390380e+04, 4.92094056e+03, 1.48873731e+03,\n",
       "        4.85778554e+03, 1.03285185e+00],\n",
       "       [3.34493811e+00, 7.42220409e+04, 7.57967669e+03, 1.49579277e+03,\n",
       "        9.90597232e+03, 4.98419540e+00],\n",
       "       [4.96767631e+00, 7.73106835e+04, 8.58903849e+03, 1.08790687e+03,\n",
       "        9.72649401e+03, 8.59877939e+00],\n",
       "       [2.29398993e+00, 5.15120664e+04, 6.92160661e+03, 8.14992791e+02,\n",
       "        8.47448393e+03, 9.46239361e-01],\n",
       "       [5.99690310e+00, 7.74120549e+04, 7.08984770e+03, 1.71676304e+03,\n",
       "        7.37372725e+03, 5.45234765e+00],\n",
       "       [2.83436683e+00, 7.69373381e+04, 7.40450161e+03, 1.43692081e+03,\n",
       "        9.77480525e+03, 1.64833769e+00],\n",
       "       [4.47601168e+00, 7.13960930e+04, 5.74494505e+03, 1.03544162e+03,\n",
       "        6.45519072e+03, 9.19959473e-01]])"
      ]
     },
     "execution_count": 22,
     "metadata": {},
     "output_type": "execute_result"
    }
   ],
   "source": [
    "scaler.inverse_transform(kmeans.cluster_centers_)"
   ]
  },
  {
   "cell_type": "code",
   "execution_count": 23,
   "metadata": {},
   "outputs": [
    {
     "name": "stdout",
     "output_type": "stream",
     "text": [
      "Cluster 0: 7847 (0.11)\n",
      "Cluster 1: 9048 (0.12)\n",
      "Cluster 2: 4424 (0.06)\n",
      "Cluster 3: 11528 (0.16)\n",
      "Cluster 4: 10011 (0.14)\n",
      "Cluster 5: 13366 (0.18)\n",
      "Cluster 6: 16759 (0.23)\n"
     ]
    }
   ],
   "source": [
    "labels, sizes = np.unique(kmeans.labels_, return_counts=True)\n",
    "for l, s in zip(labels, sizes):\n",
    "    print('Cluster %d: %s (%.2f)' % (l, s, s/len(X)))"
   ]
  },
  {
   "cell_type": "code",
   "execution_count": 24,
   "metadata": {},
   "outputs": [
    {
     "data": {
      "text/html": [
       "<div>\n",
       "<style scoped>\n",
       "    .dataframe tbody tr th:only-of-type {\n",
       "        vertical-align: middle;\n",
       "    }\n",
       "\n",
       "    .dataframe tbody tr th {\n",
       "        vertical-align: top;\n",
       "    }\n",
       "\n",
       "    .dataframe thead th {\n",
       "        text-align: right;\n",
       "    }\n",
       "</style>\n",
       "<table border=\"1\" class=\"dataframe\">\n",
       "  <thead>\n",
       "    <tr style=\"text-align: right;\">\n",
       "      <th></th>\n",
       "      <th>IsBadBuy</th>\n",
       "      <th>Auction</th>\n",
       "      <th>VehicleAge</th>\n",
       "      <th>VehOdo</th>\n",
       "      <th>VehBCost</th>\n",
       "      <th>WarrantyCost</th>\n",
       "      <th>OutCost</th>\n",
       "      <th>VehOdo_Standard</th>\n",
       "      <th>AverageMMR</th>\n",
       "      <th>Size_class</th>\n",
       "    </tr>\n",
       "    <tr>\n",
       "      <th>label</th>\n",
       "      <th></th>\n",
       "      <th></th>\n",
       "      <th></th>\n",
       "      <th></th>\n",
       "      <th></th>\n",
       "      <th></th>\n",
       "      <th></th>\n",
       "      <th></th>\n",
       "      <th></th>\n",
       "      <th></th>\n",
       "    </tr>\n",
       "  </thead>\n",
       "  <tbody>\n",
       "    <tr>\n",
       "      <th>0</th>\n",
       "      <td>0.227348</td>\n",
       "      <td>0.804894</td>\n",
       "      <td>6.785651</td>\n",
       "      <td>77751.802727</td>\n",
       "      <td>4922.744106</td>\n",
       "      <td>1486.953740</td>\n",
       "      <td>0.978081</td>\n",
       "      <td>0.039813</td>\n",
       "      <td>4858.143972</td>\n",
       "      <td>1.032242</td>\n",
       "    </tr>\n",
       "    <tr>\n",
       "      <th>1</th>\n",
       "      <td>0.092396</td>\n",
       "      <td>0.801835</td>\n",
       "      <td>3.344938</td>\n",
       "      <td>74222.040893</td>\n",
       "      <td>7579.676685</td>\n",
       "      <td>1495.792772</td>\n",
       "      <td>1.003647</td>\n",
       "      <td>0.304108</td>\n",
       "      <td>9905.972318</td>\n",
       "      <td>4.984195</td>\n",
       "    </tr>\n",
       "    <tr>\n",
       "      <th>2</th>\n",
       "      <td>0.123644</td>\n",
       "      <td>0.773056</td>\n",
       "      <td>4.967676</td>\n",
       "      <td>77310.683544</td>\n",
       "      <td>8589.038486</td>\n",
       "      <td>1087.906872</td>\n",
       "      <td>1.027803</td>\n",
       "      <td>0.249990</td>\n",
       "      <td>9726.494008</td>\n",
       "      <td>8.598779</td>\n",
       "    </tr>\n",
       "    <tr>\n",
       "      <th>3</th>\n",
       "      <td>0.069570</td>\n",
       "      <td>0.841516</td>\n",
       "      <td>2.297103</td>\n",
       "      <td>51502.998439</td>\n",
       "      <td>6920.169025</td>\n",
       "      <td>814.768217</td>\n",
       "      <td>1.001388</td>\n",
       "      <td>-0.973511</td>\n",
       "      <td>8470.612633</td>\n",
       "      <td>0.945871</td>\n",
       "    </tr>\n",
       "    <tr>\n",
       "      <th>4</th>\n",
       "      <td>0.177205</td>\n",
       "      <td>0.785436</td>\n",
       "      <td>5.996903</td>\n",
       "      <td>77409.942363</td>\n",
       "      <td>7090.498502</td>\n",
       "      <td>1716.675157</td>\n",
       "      <td>0.999301</td>\n",
       "      <td>0.100840</td>\n",
       "      <td>7374.296374</td>\n",
       "      <td>5.452103</td>\n",
       "    </tr>\n",
       "    <tr>\n",
       "      <th>5</th>\n",
       "      <td>0.074892</td>\n",
       "      <td>0.816774</td>\n",
       "      <td>2.832186</td>\n",
       "      <td>76922.250262</td>\n",
       "      <td>7406.412464</td>\n",
       "      <td>1436.907826</td>\n",
       "      <td>1.000898</td>\n",
       "      <td>0.601442</td>\n",
       "      <td>9780.040943</td>\n",
       "      <td>1.649259</td>\n",
       "    </tr>\n",
       "    <tr>\n",
       "      <th>6</th>\n",
       "      <td>0.133182</td>\n",
       "      <td>0.779999</td>\n",
       "      <td>4.473179</td>\n",
       "      <td>71469.778626</td>\n",
       "      <td>5745.175010</td>\n",
       "      <td>1036.443583</td>\n",
       "      <td>0.998568</td>\n",
       "      <td>-0.119082</td>\n",
       "      <td>6457.479612</td>\n",
       "      <td>0.920282</td>\n",
       "    </tr>\n",
       "  </tbody>\n",
       "</table>\n",
       "</div>"
      ],
      "text/plain": [
       "       IsBadBuy   Auction  VehicleAge        VehOdo     VehBCost  \\\n",
       "label                                                              \n",
       "0      0.227348  0.804894    6.785651  77751.802727  4922.744106   \n",
       "1      0.092396  0.801835    3.344938  74222.040893  7579.676685   \n",
       "2      0.123644  0.773056    4.967676  77310.683544  8589.038486   \n",
       "3      0.069570  0.841516    2.297103  51502.998439  6920.169025   \n",
       "4      0.177205  0.785436    5.996903  77409.942363  7090.498502   \n",
       "5      0.074892  0.816774    2.832186  76922.250262  7406.412464   \n",
       "6      0.133182  0.779999    4.473179  71469.778626  5745.175010   \n",
       "\n",
       "       WarrantyCost   OutCost  VehOdo_Standard   AverageMMR  Size_class  \n",
       "label                                                                    \n",
       "0       1486.953740  0.978081         0.039813  4858.143972    1.032242  \n",
       "1       1495.792772  1.003647         0.304108  9905.972318    4.984195  \n",
       "2       1087.906872  1.027803         0.249990  9726.494008    8.598779  \n",
       "3        814.768217  1.001388        -0.973511  8470.612633    0.945871  \n",
       "4       1716.675157  0.999301         0.100840  7374.296374    5.452103  \n",
       "5       1436.907826  1.000898         0.601442  9780.040943    1.649259  \n",
       "6       1036.443583  0.998568        -0.119082  6457.479612    0.920282  "
      ]
     },
     "execution_count": 24,
     "metadata": {},
     "output_type": "execute_result"
    }
   ],
   "source": [
    "train[\"label\"] = kmeans.labels_\n",
    "train.groupby(\"label\").mean()"
   ]
  }
 ],
 "metadata": {
  "kernelspec": {
   "display_name": "Python 3",
   "language": "python",
   "name": "python3"
  },
  "language_info": {
   "codemirror_mode": {
    "name": "ipython",
    "version": 3
   },
   "file_extension": ".py",
   "mimetype": "text/x-python",
   "name": "python",
   "nbconvert_exporter": "python",
   "pygments_lexer": "ipython3",
   "version": "3.7.7"
  }
 },
 "nbformat": 4,
 "nbformat_minor": 2
}
