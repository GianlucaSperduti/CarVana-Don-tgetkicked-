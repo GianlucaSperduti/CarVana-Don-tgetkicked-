{
 "cells": [
  {
   "cell_type": "code",
   "execution_count": 1,
   "metadata": {},
   "outputs": [],
   "source": [
    "%matplotlib inline\n",
    "\n",
    "import numpy as np\n",
    "import pandas as pd\n",
    "import matplotlib.pyplot as plt"
   ]
  },
  {
   "cell_type": "code",
   "execution_count": 2,
   "metadata": {},
   "outputs": [],
   "source": [
    "train = pd.read_csv('D:\\\\MasterBigData\\\\Didattica\\\\DMML\\\\Project\\\\training_ready.csv')"
   ]
  },
  {
   "cell_type": "code",
   "execution_count": 3,
   "metadata": {},
   "outputs": [
    {
     "name": "stdout",
     "output_type": "stream",
     "text": [
      "<class 'pandas.core.frame.DataFrame'>\n",
      "RangeIndex: 72983 entries, 0 to 72982\n",
      "Data columns (total 18 columns):\n",
      " #   Column           Non-Null Count  Dtype  \n",
      "---  ------           --------------  -----  \n",
      " 0   IsBadBuy         72983 non-null  int64  \n",
      " 1   Auction          72983 non-null  int64  \n",
      " 2   VehicleAge       72983 non-null  int64  \n",
      " 3   WheelType        72983 non-null  object \n",
      " 4   VehOdo           72983 non-null  int64  \n",
      " 5   Nationality      72983 non-null  object \n",
      " 6   VehBCost         72983 non-null  float64\n",
      " 7   WarrantyCost     72983 non-null  int64  \n",
      " 8   OutCost          72983 non-null  int64  \n",
      " 9   VehOdo_Standard  72983 non-null  float64\n",
      " 10  AverageMMR       72983 non-null  float64\n",
      " 11  Make_new         72983 non-null  object \n",
      " 12  VNST_new         72983 non-null  object \n",
      " 13  Size_class       72983 non-null  int64  \n",
      " 14  Model_Name       72983 non-null  object \n",
      " 15  Model_Property   72983 non-null  object \n",
      " 16  SubModel_New     72983 non-null  object \n",
      " 17  Trim_New         72983 non-null  object \n",
      "dtypes: float64(3), int64(7), object(8)\n",
      "memory usage: 10.0+ MB\n"
     ]
    }
   ],
   "source": [
    "train.info()"
   ]
  },
  {
   "cell_type": "markdown",
   "metadata": {},
   "source": [
    "# K-Mode"
   ]
  },
  {
   "cell_type": "markdown",
   "metadata": {},
   "source": [
    "Per le variabili categoriche che presentano molte modalità, creiamo dei cluster che possano riassumere l'informazione."
   ]
  },
  {
   "cell_type": "code",
   "execution_count": 4,
   "metadata": {},
   "outputs": [],
   "source": [
    "from kmodes.kmodes import KModes\n",
    "from scipy.stats import hmean\n",
    "from scipy.stats import entropy\n",
    "import math"
   ]
  },
  {
   "cell_type": "code",
   "execution_count": 5,
   "metadata": {},
   "outputs": [],
   "source": [
    "def ClusterEntropy(df, attributes, km, Cluster='Cluster'):\n",
    "    df[Cluster] = km.labels_\n",
    "    E_list = []\n",
    "    w_list = []\n",
    "    for i in range(len(km.cluster_centroids_)):\n",
    "        E = 0\n",
    "        ent_list = []\n",
    "        den = len(df[df[Cluster] == i])\n",
    "        for j in range(len(attributes)):\n",
    "            num = df[attributes[j]][df[Cluster] == i][df[attributes[j]] == km.cluster_centroids_[i][j]].count()         \n",
    "            pk = [num/den, 1-num/den]\n",
    "            e = entropy(pk, base=len(df[attributes[j]].unique()))\n",
    "            ent_list.append(e)\n",
    "            E = np.mean(ent_list)       \n",
    "        E_list.append(E)\n",
    "        w_list.append(den)\n",
    "    return np.mean(E_list), np.average(E_list, weights=w_list)"
   ]
  },
  {
   "cell_type": "code",
   "execution_count": 6,
   "metadata": {},
   "outputs": [],
   "source": [
    "X = train[['Make_new', 'Model_Name', 'Model_Property', 'Trim_New', 'SubModel_New', 'Nationality']].values"
   ]
  },
  {
   "cell_type": "code",
   "execution_count": 7,
   "metadata": {},
   "outputs": [
    {
     "name": "stdout",
     "output_type": "stream",
     "text": [
      "Wall time: 59min 16s\n"
     ]
    },
    {
     "data": {
      "text/plain": [
       "[<matplotlib.lines.Line2D at 0x1e1fbc1ee48>]"
      ]
     },
     "execution_count": 7,
     "metadata": {},
     "output_type": "execute_result"
    },
    {
     "data": {
      "image/png": "[encoded data removed]",
      "text/plain": [
       "<Figure size 432x288 with 1 Axes>"
      ]
     },
     "metadata": {
      "needs_background": "dark"
     },
     "output_type": "display_data"
    }
   ],
   "source": [
    "%%time\n",
    "temp = train\n",
    "attributes = ['Make_new', 'Model_Name', 'Model_Property', 'Trim_New', 'SubModel_New', 'Nationality']\n",
    "entropy_list = list()\n",
    "WEntropy_list = list()\n",
    "max_k = 30\n",
    "for k in range(2, max_k + 1):\n",
    "    cluster = 'Clustering_'+str(k)\n",
    "    km = KModes(n_clusters=k, init='Huang', n_init=5, verbose=0, random_state=1)\n",
    "    km.fit_predict(X)\n",
    "    \n",
    "    cluster_function = ClusterEntropy(temp, attributes, km, Cluster=cluster)\n",
    "    entropy_list.append(cluster_function[0])\n",
    "    WEntropy_list.append(cluster_function[1])\n",
    "\n",
    "plt.plot(range(2,max_k + 1), entropy_list)\n",
    "plt.plot(range(2,max_k + 1), WEntropy_list)"
   ]
  },
  {
   "cell_type": "code",
   "execution_count": 8,
   "metadata": {},
   "outputs": [
    {
     "name": "stdout",
     "output_type": "stream",
     "text": [
      "[0.18816741716916335, 0.19823759064493493, 0.18930454935007174, 0.17449459539405113, 0.18007359851460666, 0.17215929596646465, 0.15796672091239927, 0.15652361947266444, 0.16110176569040152, 0.16173704792903051, 0.17165984642308998, 0.14969150576688237, 0.1383869298500807, 0.1530835725963275, 0.12732731134403924, 0.12813956017032282, 0.12842828789665794, 0.1327049160197715, 0.12932676269934923, 0.1358225460743207, 0.13448976331272763, 0.11970457997879368, 0.12148158980174935, 0.11381164420656084, 0.1249309366863181, 0.11341898411903369, 0.10649497012607638, 0.11449052928230757, 0.1072837406966582]\n",
      "[0.19419700618961092, 0.19758850927728883, 0.19524906786112461, 0.1849158022964, 0.18747182210789728, 0.1871471743977048, 0.1677132847206614, 0.1679012283329748, 0.17117466624156538, 0.1657032005335746, 0.1830837083937142, 0.15716721967305386, 0.15097181817255645, 0.15947571677839512, 0.13745684446030865, 0.14269315928694631, 0.15348270663501043, 0.14228060923446015, 0.1359460892545488, 0.13935656506915978, 0.14239843670969873, 0.1389141272331569, 0.1361063054077594, 0.1286871953228771, 0.13414394882501499, 0.12338047102068217, 0.12282731937420509, 0.1277676313789141, 0.11917826148316962]\n"
     ]
    }
   ],
   "source": [
    "print(entropy_list)\n",
    "print(WEntropy_list)"
   ]
  },
  {
   "cell_type": "markdown",
   "metadata": {},
   "source": [
    "Clustering da 16"
   ]
  },
  {
   "cell_type": "code",
   "execution_count": 9,
   "metadata": {},
   "outputs": [
    {
     "data": {
      "text/plain": [
       "KModes(cat_dissim=<function matching_dissim at 0x000001E1FBAEDEE8>,\n",
       "       init='Huang', max_iter=100, n_clusters=16, n_init=5, n_jobs=1,\n",
       "       random_state=1, verbose=0)"
      ]
     },
     "execution_count": 9,
     "metadata": {},
     "output_type": "execute_result"
    }
   ],
   "source": [
    "km_16 = KModes(n_clusters=16, init='Huang', n_init=5, verbose=0, random_state=1)\n",
    "km_16.fit(X)"
   ]
  },
  {
   "cell_type": "code",
   "execution_count": 10,
   "metadata": {},
   "outputs": [
    {
     "data": {
      "text/plain": [
       "(array([ 0,  1,  2,  3,  4,  5,  6,  7,  8,  9, 10, 11, 12, 13, 14, 15],\n",
       "       dtype=uint16),\n",
       " array([13693,  5612,  7836,  5834,  6928,  6930,  2542,  1030,  3722,\n",
       "         1861,  6048,  4380,  1747,   970,  1449,  2401], dtype=int64))"
      ]
     },
     "execution_count": 10,
     "metadata": {},
     "output_type": "execute_result"
    }
   ],
   "source": [
    "np.unique(km_16.labels_, return_counts=True)"
   ]
  },
  {
   "cell_type": "code",
   "execution_count": 11,
   "metadata": {},
   "outputs": [
    {
     "data": {
      "text/plain": [
       "array([['FORD', 'TAURUS', 'None', 'SE', 'SEDAN', 'AMERICAN'],\n",
       "       ['DODGE', 'CARAVAN', 'FWD', 'SE', 'MINIVAN', 'AMERICAN'],\n",
       "       ['CHEVROLET', 'IMPALA', 'None', 'L', 'SEDAN', 'AMERICAN'],\n",
       "       ['KIA', 'SPECTRA', 'None', 'EX', 'SEDAN', 'OTHER ASIAN'],\n",
       "       ['DODGE', 'STRATUS', 'V6', 'Bas', 'SEDAN', 'AMERICAN'],\n",
       "       ['CHEVROLET', 'TRAILBLAZER', '2WD', 'L', 'SUV', 'AMERICAN'],\n",
       "       ['NISSAN', 'ALTIMA', 'None', 'Bas', 'SEDAN', 'TOP LINE ASIAN'],\n",
       "       ['TOYOTA', 'CAMRY', '4C', 'L', 'SEDAN', 'TOP LINE ASIAN'],\n",
       "       ['PONTIAC', 'GRAND', 'PRIX', 'Bas', 'SEDAN', 'AMERICAN'],\n",
       "       ['HYUNDAI', 'SONATA', 'None', 'GL', 'SEDAN', 'OTHER ASIAN'],\n",
       "       ['CHRYSLER', 'PT', 'CRUISER', 'Bas', 'SEDAN', 'AMERICAN'],\n",
       "       ['CHEVROLET', 'MALIBU', '4C', 'L', 'SEDAN', 'AMERICAN'],\n",
       "       ['CHEVROLET', 'UPLANDER', 'FWD', 'L', 'PASSENGER', 'AMERICAN'],\n",
       "       ['CHEVROLET', 'CAVALIER', '4C', 'Bas', 'SEDAN', 'AMERICAN'],\n",
       "       ['CHEVROLET', 'IMPALA', 'V6', 'L', 'SEDAN', 'AMERICAN'],\n",
       "       ['DODGE', 'CALIBER', 'None', 'SE', 'WAGON', 'AMERICAN']],\n",
       "      dtype='<U14')"
      ]
     },
     "execution_count": 11,
     "metadata": {},
     "output_type": "execute_result"
    }
   ],
   "source": [
    "km_16.cluster_centroids_"
   ]
  },
  {
   "cell_type": "code",
   "execution_count": 12,
   "metadata": {},
   "outputs": [],
   "source": [
    "train['Label'] = km_16.labels_"
   ]
  },
  {
   "cell_type": "code",
   "execution_count": 13,
   "metadata": {},
   "outputs": [
    {
     "data": {
      "text/html": [
       "<div>\n",
       "<style scoped>\n",
       "    .dataframe tbody tr th:only-of-type {\n",
       "        vertical-align: middle;\n",
       "    }\n",
       "\n",
       "    .dataframe tbody tr th {\n",
       "        vertical-align: top;\n",
       "    }\n",
       "\n",
       "    .dataframe thead th {\n",
       "        text-align: right;\n",
       "    }\n",
       "</style>\n",
       "<table border=\"1\" class=\"dataframe\">\n",
       "  <thead>\n",
       "    <tr style=\"text-align: right;\">\n",
       "      <th>Label</th>\n",
       "      <th>0</th>\n",
       "      <th>1</th>\n",
       "      <th>2</th>\n",
       "      <th>3</th>\n",
       "      <th>4</th>\n",
       "      <th>5</th>\n",
       "      <th>6</th>\n",
       "      <th>7</th>\n",
       "      <th>8</th>\n",
       "      <th>9</th>\n",
       "      <th>10</th>\n",
       "      <th>11</th>\n",
       "      <th>12</th>\n",
       "      <th>13</th>\n",
       "      <th>14</th>\n",
       "      <th>15</th>\n",
       "    </tr>\n",
       "    <tr>\n",
       "      <th>IsBadBuy</th>\n",
       "      <th></th>\n",
       "      <th></th>\n",
       "      <th></th>\n",
       "      <th></th>\n",
       "      <th></th>\n",
       "      <th></th>\n",
       "      <th></th>\n",
       "      <th></th>\n",
       "      <th></th>\n",
       "      <th></th>\n",
       "      <th></th>\n",
       "      <th></th>\n",
       "      <th></th>\n",
       "      <th></th>\n",
       "      <th></th>\n",
       "      <th></th>\n",
       "    </tr>\n",
       "  </thead>\n",
       "  <tbody>\n",
       "    <tr>\n",
       "      <th>0</th>\n",
       "      <td>11800</td>\n",
       "      <td>4959</td>\n",
       "      <td>6977</td>\n",
       "      <td>5062</td>\n",
       "      <td>6101</td>\n",
       "      <td>6020</td>\n",
       "      <td>2161</td>\n",
       "      <td>938</td>\n",
       "      <td>3227</td>\n",
       "      <td>1621</td>\n",
       "      <td>5187</td>\n",
       "      <td>4036</td>\n",
       "      <td>1534</td>\n",
       "      <td>828</td>\n",
       "      <td>1369</td>\n",
       "      <td>2187</td>\n",
       "    </tr>\n",
       "    <tr>\n",
       "      <th>1</th>\n",
       "      <td>1893</td>\n",
       "      <td>653</td>\n",
       "      <td>859</td>\n",
       "      <td>772</td>\n",
       "      <td>827</td>\n",
       "      <td>910</td>\n",
       "      <td>381</td>\n",
       "      <td>92</td>\n",
       "      <td>495</td>\n",
       "      <td>240</td>\n",
       "      <td>861</td>\n",
       "      <td>344</td>\n",
       "      <td>213</td>\n",
       "      <td>142</td>\n",
       "      <td>80</td>\n",
       "      <td>214</td>\n",
       "    </tr>\n",
       "  </tbody>\n",
       "</table>\n",
       "</div>"
      ],
      "text/plain": [
       "Label        0     1     2     3     4     5     6    7     8     9     10  \\\n",
       "IsBadBuy                                                                     \n",
       "0         11800  4959  6977  5062  6101  6020  2161  938  3227  1621  5187   \n",
       "1          1893   653   859   772   827   910   381   92   495   240   861   \n",
       "\n",
       "Label       11    12   13    14    15  \n",
       "IsBadBuy                               \n",
       "0         4036  1534  828  1369  2187  \n",
       "1          344   213  142    80   214  "
      ]
     },
     "execution_count": 13,
     "metadata": {},
     "output_type": "execute_result"
    }
   ],
   "source": [
    "pd.crosstab(train['IsBadBuy'], train['Label'])"
   ]
  },
  {
   "cell_type": "code",
   "execution_count": 15,
   "metadata": {},
   "outputs": [
    {
     "name": "stdout",
     "output_type": "stream",
     "text": [
      "Label  Trim_New\n",
      "4      Bas         2950\n",
      "       C             11\n",
      "       ES            29\n",
      "       GL            60\n",
      "       GT           264\n",
      "       Lim           56\n",
      "       Other        215\n",
      "       SE           504\n",
      "       SX          2362\n",
      "       T            399\n",
      "       X             78\n",
      "Name: Trim_New, dtype: int64\n",
      "Label  SubModel_New\n",
      "4      CAB               29\n",
      "       CONVERTIBLE      234\n",
      "       COUPE            624\n",
      "       CUV              367\n",
      "       SEDAN           5401\n",
      "       SPORT              1\n",
      "       SUV              135\n",
      "       WAGON            137\n",
      "Name: SubModel_New, dtype: int64\n"
     ]
    }
   ],
   "source": [
    "c = 4\n",
    "print(train['Trim_New'][train['Label']==c].groupby([train['Label'],train['Trim_New']]).count())\n",
    "print(train['SubModel_New'][train['Label']==c].groupby([train['Label'],train['SubModel_New']]).count())"
   ]
  },
  {
   "cell_type": "markdown",
   "metadata": {},
   "source": [
    "I risultati del K Mode non sono soddisfacenti."
   ]
  }
 ],
 "metadata": {
  "kernelspec": {
   "display_name": "Python 3",
   "language": "python",
   "name": "python3"
  },
  "language_info": {
   "codemirror_mode": {
    "name": "ipython",
    "version": 3
   },
   "file_extension": ".py",
   "mimetype": "text/x-python",
   "name": "python",
   "nbconvert_exporter": "python",
   "pygments_lexer": "ipython3",
   "version": "3.7.6"
  }
 },
 "nbformat": 4,
 "nbformat_minor": 2
}
