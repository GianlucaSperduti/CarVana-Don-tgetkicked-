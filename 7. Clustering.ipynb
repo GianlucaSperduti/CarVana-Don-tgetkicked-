{
 "cells": [
  {
   "cell_type": "markdown",
   "metadata": {},
   "source": [
    "# Clustering"
   ]
  },
  {
   "cell_type": "markdown",
   "metadata": {},
   "source": [
    "A partire dal dataset ridotto con la tecnica del k-means, applichiamo gli altri due principali metodi di clustering: gerarchico e DB Scan."
   ]
  },
  {
   "cell_type": "code",
   "execution_count": 6,
   "metadata": {},
   "outputs": [],
   "source": [
    "import math\n",
    "import numpy as np\n",
    "import pandas as pd\n",
    "import matplotlib.pyplot as plt\n",
    "from sklearn.metrics import silhouette_score\n",
    "from sklearn.preprocessing import MinMaxScaler\n",
    "from sklearn.preprocessing import StandardScaler\n",
    "from scipy.stats import mode\n",
    "from scipy.spatial.distance import pdist\n",
    "from scipy.cluster.hierarchy import linkage, dendrogram, fcluster\n",
    "from scipy.spatial.distance import pdist, squareform\n",
    "from scipy.spatial.distance import euclidean, jaccard\n",
    "from sklearn.cluster import DBSCAN"
   ]
  },
  {
   "cell_type": "markdown",
   "metadata": {},
   "source": [
    "### Hierarchical"
   ]
  },
  {
   "cell_type": "markdown",
   "metadata": {},
   "source": [
    "Droppiamo le variabili innestate per creare meno problemi al clusterizzatore."
   ]
  },
  {
   "cell_type": "code",
   "execution_count": 45,
   "metadata": {},
   "outputs": [],
   "source": [
    "df = pd.read_csv('D:\\\\MasterBigData\\\\Didattica\\\\DMML\\\\Project\\\\training_clustered.csv')\n",
    "df.drop(['Auction','Make_new','Model_Name', 'VNST_new','Model_Property'], axis=1, inplace=True)"
   ]
  },
  {
   "cell_type": "code",
   "execution_count": 46,
   "metadata": {},
   "outputs": [
    {
     "name": "stdout",
     "output_type": "stream",
     "text": [
      "<class 'pandas.core.frame.DataFrame'>\n",
      "RangeIndex: 2000 entries, 0 to 1999\n",
      "Data columns (total 11 columns):\n",
      " #   Column        Non-Null Count  Dtype  \n",
      "---  ------        --------------  -----  \n",
      " 0   IsBadBuy      2000 non-null   float64\n",
      " 1   VehicleAge    2000 non-null   float64\n",
      " 2   VehOdo        2000 non-null   float64\n",
      " 3   VehBCost      2000 non-null   float64\n",
      " 4   WarrantyCost  2000 non-null   float64\n",
      " 5   AverageMMR    2000 non-null   float64\n",
      " 6   Size_class    2000 non-null   float64\n",
      " 7   WheelType     2000 non-null   object \n",
      " 8   Nationality   2000 non-null   object \n",
      " 9   SubModel_New  2000 non-null   object \n",
      " 10  Trim_New      2000 non-null   object \n",
      "dtypes: float64(7), object(4)\n",
      "memory usage: 172.0+ KB\n"
     ]
    }
   ],
   "source": [
    "df.info()"
   ]
  },
  {
   "cell_type": "code",
   "execution_count": 47,
   "metadata": {},
   "outputs": [
    {
     "data": {
      "text/html": [
       "<div>\n",
       "<style scoped>\n",
       "    .dataframe tbody tr th:only-of-type {\n",
       "        vertical-align: middle;\n",
       "    }\n",
       "\n",
       "    .dataframe tbody tr th {\n",
       "        vertical-align: top;\n",
       "    }\n",
       "\n",
       "    .dataframe thead th {\n",
       "        text-align: right;\n",
       "    }\n",
       "</style>\n",
       "<table border=\"1\" class=\"dataframe\">\n",
       "  <thead>\n",
       "    <tr style=\"text-align: right;\">\n",
       "      <th></th>\n",
       "      <th>VehicleAge</th>\n",
       "      <th>VehOdo</th>\n",
       "      <th>VehBCost</th>\n",
       "      <th>WarrantyCost</th>\n",
       "      <th>AverageMMR</th>\n",
       "      <th>Size_class</th>\n",
       "      <th>WheelType=Alloy</th>\n",
       "      <th>WheelType=Covers</th>\n",
       "      <th>Nationality=AMERICAN</th>\n",
       "      <th>Nationality=OTHER</th>\n",
       "      <th>...</th>\n",
       "      <th>Trim_New=S</th>\n",
       "      <th>Trim_New=SE</th>\n",
       "      <th>Trim_New=SR</th>\n",
       "      <th>Trim_New=SS</th>\n",
       "      <th>Trim_New=ST</th>\n",
       "      <th>Trim_New=SX</th>\n",
       "      <th>Trim_New=T</th>\n",
       "      <th>Trim_New=X</th>\n",
       "      <th>Trim_New=ZX</th>\n",
       "      <th>Trim_New=i</th>\n",
       "    </tr>\n",
       "  </thead>\n",
       "  <tbody>\n",
       "    <tr>\n",
       "      <th>0</th>\n",
       "      <td>5.0</td>\n",
       "      <td>80436.185714</td>\n",
       "      <td>4370.571429</td>\n",
       "      <td>999.900000</td>\n",
       "      <td>4040.810714</td>\n",
       "      <td>1.0</td>\n",
       "      <td>1</td>\n",
       "      <td>0</td>\n",
       "      <td>1</td>\n",
       "      <td>0</td>\n",
       "      <td>...</td>\n",
       "      <td>0</td>\n",
       "      <td>1</td>\n",
       "      <td>0</td>\n",
       "      <td>0</td>\n",
       "      <td>0</td>\n",
       "      <td>0</td>\n",
       "      <td>0</td>\n",
       "      <td>0</td>\n",
       "      <td>0</td>\n",
       "      <td>0</td>\n",
       "    </tr>\n",
       "    <tr>\n",
       "      <th>1</th>\n",
       "      <td>6.0</td>\n",
       "      <td>77877.800000</td>\n",
       "      <td>6603.666667</td>\n",
       "      <td>1006.866667</td>\n",
       "      <td>6305.958333</td>\n",
       "      <td>6.0</td>\n",
       "      <td>1</td>\n",
       "      <td>0</td>\n",
       "      <td>0</td>\n",
       "      <td>0</td>\n",
       "      <td>...</td>\n",
       "      <td>0</td>\n",
       "      <td>1</td>\n",
       "      <td>0</td>\n",
       "      <td>0</td>\n",
       "      <td>0</td>\n",
       "      <td>0</td>\n",
       "      <td>0</td>\n",
       "      <td>0</td>\n",
       "      <td>0</td>\n",
       "      <td>0</td>\n",
       "    </tr>\n",
       "    <tr>\n",
       "      <th>2</th>\n",
       "      <td>2.0</td>\n",
       "      <td>45059.402778</td>\n",
       "      <td>7084.861111</td>\n",
       "      <td>881.069444</td>\n",
       "      <td>8373.621528</td>\n",
       "      <td>1.0</td>\n",
       "      <td>0</td>\n",
       "      <td>1</td>\n",
       "      <td>1</td>\n",
       "      <td>0</td>\n",
       "      <td>...</td>\n",
       "      <td>0</td>\n",
       "      <td>0</td>\n",
       "      <td>0</td>\n",
       "      <td>0</td>\n",
       "      <td>0</td>\n",
       "      <td>0</td>\n",
       "      <td>0</td>\n",
       "      <td>0</td>\n",
       "      <td>0</td>\n",
       "      <td>0</td>\n",
       "    </tr>\n",
       "    <tr>\n",
       "      <th>3</th>\n",
       "      <td>3.0</td>\n",
       "      <td>68876.378151</td>\n",
       "      <td>6979.592437</td>\n",
       "      <td>836.050420</td>\n",
       "      <td>9033.485294</td>\n",
       "      <td>1.0</td>\n",
       "      <td>0</td>\n",
       "      <td>1</td>\n",
       "      <td>1</td>\n",
       "      <td>0</td>\n",
       "      <td>...</td>\n",
       "      <td>0</td>\n",
       "      <td>0</td>\n",
       "      <td>0</td>\n",
       "      <td>0</td>\n",
       "      <td>0</td>\n",
       "      <td>0</td>\n",
       "      <td>0</td>\n",
       "      <td>0</td>\n",
       "      <td>0</td>\n",
       "      <td>0</td>\n",
       "    </tr>\n",
       "    <tr>\n",
       "      <th>4</th>\n",
       "      <td>4.0</td>\n",
       "      <td>77955.000000</td>\n",
       "      <td>7081.153846</td>\n",
       "      <td>688.538462</td>\n",
       "      <td>8326.615385</td>\n",
       "      <td>6.0</td>\n",
       "      <td>1</td>\n",
       "      <td>0</td>\n",
       "      <td>0</td>\n",
       "      <td>0</td>\n",
       "      <td>...</td>\n",
       "      <td>0</td>\n",
       "      <td>0</td>\n",
       "      <td>0</td>\n",
       "      <td>0</td>\n",
       "      <td>0</td>\n",
       "      <td>0</td>\n",
       "      <td>0</td>\n",
       "      <td>0</td>\n",
       "      <td>0</td>\n",
       "      <td>0</td>\n",
       "    </tr>\n",
       "    <tr>\n",
       "      <th>...</th>\n",
       "      <td>...</td>\n",
       "      <td>...</td>\n",
       "      <td>...</td>\n",
       "      <td>...</td>\n",
       "      <td>...</td>\n",
       "      <td>...</td>\n",
       "      <td>...</td>\n",
       "      <td>...</td>\n",
       "      <td>...</td>\n",
       "      <td>...</td>\n",
       "      <td>...</td>\n",
       "      <td>...</td>\n",
       "      <td>...</td>\n",
       "      <td>...</td>\n",
       "      <td>...</td>\n",
       "      <td>...</td>\n",
       "      <td>...</td>\n",
       "      <td>...</td>\n",
       "      <td>...</td>\n",
       "      <td>...</td>\n",
       "      <td>...</td>\n",
       "    </tr>\n",
       "    <tr>\n",
       "      <th>1995</th>\n",
       "      <td>5.0</td>\n",
       "      <td>59890.500000</td>\n",
       "      <td>7122.142857</td>\n",
       "      <td>670.000000</td>\n",
       "      <td>7381.571429</td>\n",
       "      <td>5.0</td>\n",
       "      <td>1</td>\n",
       "      <td>0</td>\n",
       "      <td>1</td>\n",
       "      <td>0</td>\n",
       "      <td>...</td>\n",
       "      <td>1</td>\n",
       "      <td>0</td>\n",
       "      <td>0</td>\n",
       "      <td>0</td>\n",
       "      <td>0</td>\n",
       "      <td>0</td>\n",
       "      <td>0</td>\n",
       "      <td>0</td>\n",
       "      <td>0</td>\n",
       "      <td>0</td>\n",
       "    </tr>\n",
       "    <tr>\n",
       "      <th>1996</th>\n",
       "      <td>5.0</td>\n",
       "      <td>62435.958333</td>\n",
       "      <td>8278.333333</td>\n",
       "      <td>1152.062500</td>\n",
       "      <td>9004.718750</td>\n",
       "      <td>6.0</td>\n",
       "      <td>1</td>\n",
       "      <td>0</td>\n",
       "      <td>1</td>\n",
       "      <td>0</td>\n",
       "      <td>...</td>\n",
       "      <td>0</td>\n",
       "      <td>0</td>\n",
       "      <td>0</td>\n",
       "      <td>0</td>\n",
       "      <td>0</td>\n",
       "      <td>0</td>\n",
       "      <td>0</td>\n",
       "      <td>0</td>\n",
       "      <td>0</td>\n",
       "      <td>0</td>\n",
       "    </tr>\n",
       "    <tr>\n",
       "      <th>1997</th>\n",
       "      <td>7.2</td>\n",
       "      <td>51376.600000</td>\n",
       "      <td>7596.000000</td>\n",
       "      <td>1013.800000</td>\n",
       "      <td>7289.750000</td>\n",
       "      <td>5.0</td>\n",
       "      <td>0</td>\n",
       "      <td>1</td>\n",
       "      <td>1</td>\n",
       "      <td>0</td>\n",
       "      <td>...</td>\n",
       "      <td>1</td>\n",
       "      <td>0</td>\n",
       "      <td>0</td>\n",
       "      <td>0</td>\n",
       "      <td>0</td>\n",
       "      <td>0</td>\n",
       "      <td>0</td>\n",
       "      <td>0</td>\n",
       "      <td>0</td>\n",
       "      <td>0</td>\n",
       "    </tr>\n",
       "    <tr>\n",
       "      <th>1998</th>\n",
       "      <td>4.0</td>\n",
       "      <td>80478.095238</td>\n",
       "      <td>8725.952381</td>\n",
       "      <td>1229.119048</td>\n",
       "      <td>11218.916667</td>\n",
       "      <td>6.0</td>\n",
       "      <td>1</td>\n",
       "      <td>0</td>\n",
       "      <td>1</td>\n",
       "      <td>0</td>\n",
       "      <td>...</td>\n",
       "      <td>0</td>\n",
       "      <td>0</td>\n",
       "      <td>0</td>\n",
       "      <td>0</td>\n",
       "      <td>0</td>\n",
       "      <td>0</td>\n",
       "      <td>0</td>\n",
       "      <td>0</td>\n",
       "      <td>0</td>\n",
       "      <td>0</td>\n",
       "    </tr>\n",
       "    <tr>\n",
       "      <th>1999</th>\n",
       "      <td>7.0</td>\n",
       "      <td>54629.850000</td>\n",
       "      <td>5359.500000</td>\n",
       "      <td>1567.600000</td>\n",
       "      <td>4083.712500</td>\n",
       "      <td>4.0</td>\n",
       "      <td>0</td>\n",
       "      <td>1</td>\n",
       "      <td>1</td>\n",
       "      <td>0</td>\n",
       "      <td>...</td>\n",
       "      <td>0</td>\n",
       "      <td>1</td>\n",
       "      <td>0</td>\n",
       "      <td>0</td>\n",
       "      <td>0</td>\n",
       "      <td>0</td>\n",
       "      <td>0</td>\n",
       "      <td>0</td>\n",
       "      <td>0</td>\n",
       "      <td>0</td>\n",
       "    </tr>\n",
       "  </tbody>\n",
       "</table>\n",
       "<p>2000 rows × 45 columns</p>\n",
       "</div>"
      ],
      "text/plain": [
       "      VehicleAge        VehOdo     VehBCost  WarrantyCost    AverageMMR  \\\n",
       "0            5.0  80436.185714  4370.571429    999.900000   4040.810714   \n",
       "1            6.0  77877.800000  6603.666667   1006.866667   6305.958333   \n",
       "2            2.0  45059.402778  7084.861111    881.069444   8373.621528   \n",
       "3            3.0  68876.378151  6979.592437    836.050420   9033.485294   \n",
       "4            4.0  77955.000000  7081.153846    688.538462   8326.615385   \n",
       "...          ...           ...          ...           ...           ...   \n",
       "1995         5.0  59890.500000  7122.142857    670.000000   7381.571429   \n",
       "1996         5.0  62435.958333  8278.333333   1152.062500   9004.718750   \n",
       "1997         7.2  51376.600000  7596.000000   1013.800000   7289.750000   \n",
       "1998         4.0  80478.095238  8725.952381   1229.119048  11218.916667   \n",
       "1999         7.0  54629.850000  5359.500000   1567.600000   4083.712500   \n",
       "\n",
       "      Size_class  WheelType=Alloy  WheelType=Covers  Nationality=AMERICAN  \\\n",
       "0            1.0                1                 0                     1   \n",
       "1            6.0                1                 0                     0   \n",
       "2            1.0                0                 1                     1   \n",
       "3            1.0                0                 1                     1   \n",
       "4            6.0                1                 0                     0   \n",
       "...          ...              ...               ...                   ...   \n",
       "1995         5.0                1                 0                     1   \n",
       "1996         6.0                1                 0                     1   \n",
       "1997         5.0                0                 1                     1   \n",
       "1998         6.0                1                 0                     1   \n",
       "1999         4.0                0                 1                     1   \n",
       "\n",
       "      Nationality=OTHER  ...  Trim_New=S  Trim_New=SE  Trim_New=SR  \\\n",
       "0                     0  ...           0            1            0   \n",
       "1                     0  ...           0            1            0   \n",
       "2                     0  ...           0            0            0   \n",
       "3                     0  ...           0            0            0   \n",
       "4                     0  ...           0            0            0   \n",
       "...                 ...  ...         ...          ...          ...   \n",
       "1995                  0  ...           1            0            0   \n",
       "1996                  0  ...           0            0            0   \n",
       "1997                  0  ...           1            0            0   \n",
       "1998                  0  ...           0            0            0   \n",
       "1999                  0  ...           0            1            0   \n",
       "\n",
       "      Trim_New=SS  Trim_New=ST  Trim_New=SX  Trim_New=T  Trim_New=X  \\\n",
       "0               0            0            0           0           0   \n",
       "1               0            0            0           0           0   \n",
       "2               0            0            0           0           0   \n",
       "3               0            0            0           0           0   \n",
       "4               0            0            0           0           0   \n",
       "...           ...          ...          ...         ...         ...   \n",
       "1995            0            0            0           0           0   \n",
       "1996            0            0            0           0           0   \n",
       "1997            0            0            0           0           0   \n",
       "1998            0            0            0           0           0   \n",
       "1999            0            0            0           0           0   \n",
       "\n",
       "      Trim_New=ZX  Trim_New=i  \n",
       "0               0           0  \n",
       "1               0           0  \n",
       "2               0           0  \n",
       "3               0           0  \n",
       "4               0           0  \n",
       "...           ...         ...  \n",
       "1995            0           0  \n",
       "1996            0           0  \n",
       "1997            0           0  \n",
       "1998            0           0  \n",
       "1999            0           0  \n",
       "\n",
       "[2000 rows x 45 columns]"
      ]
     },
     "execution_count": 47,
     "metadata": {},
     "output_type": "execute_result"
    }
   ],
   "source": [
    "c = pd.get_dummies(df[[c for c in df.columns if c != 'IsBadBuy']], prefix_sep='=')\n",
    "c"
   ]
  },
  {
   "cell_type": "code",
   "execution_count": 50,
   "metadata": {},
   "outputs": [],
   "source": [
    "def mixed(u, v):\n",
    "    index = 6\n",
    "    de = euclidean(u[:index], v[:index])\n",
    "    dj = jaccard(u[index:], v[index:])\n",
    "    #d = index/len(u) * de + (len(u)-index)/len(u) * dj\n",
    "    d = 0.5 * de + 0.5 * dj\n",
    "    return d"
   ]
  },
  {
   "cell_type": "code",
   "execution_count": 51,
   "metadata": {},
   "outputs": [
    {
     "data": {
      "text/plain": [
       "(2000, 45)"
      ]
     },
     "execution_count": 51,
     "metadata": {},
     "output_type": "execute_result"
    }
   ],
   "source": [
    "X = c.values\n",
    "scaler = StandardScaler()\n",
    "X[:6] = scaler.fit_transform(X[:6])\n",
    "X.shape"
   ]
  },
  {
   "cell_type": "code",
   "execution_count": 52,
   "metadata": {},
   "outputs": [
    {
     "data": {
      "text/plain": [
       "array([1.66796230e+00, 2.43093059e+00, 1.92055857e+00, ...,\n",
       "       1.46943673e+04, 2.55821037e+03, 1.35142225e+04])"
      ]
     },
     "execution_count": 52,
     "metadata": {},
     "output_type": "execute_result"
    }
   ],
   "source": [
    "data_dist = pdist(X, mixed)\n",
    "data_dist"
   ]
  },
  {
   "cell_type": "code",
   "execution_count": 70,
   "metadata": {},
   "outputs": [
    {
     "data": {
      "image/png": "[encoded data removed]",
      "text/plain": [
       "<Figure size 576x504 with 1 Axes>"
      ]
     },
     "metadata": {},
     "output_type": "display_data"
    }
   ],
   "source": [
    "single_link = linkage(data_dist, method='single')\n",
    "res = dendrogram(single_link, color_threshold=4000, truncate_mode='lastp')"
   ]
  },
  {
   "cell_type": "code",
   "execution_count": 71,
   "metadata": {},
   "outputs": [
    {
     "name": "stdout",
     "output_type": "stream",
     "text": [
      "Silhouette 0.35753783006497636\n"
     ]
    }
   ],
   "source": [
    "labels_single = fcluster(single_link, t=4000, criterion='distance')\n",
    "print('Silhouette %s' % silhouette_score(X, labels_single))"
   ]
  },
  {
   "cell_type": "code",
   "execution_count": 72,
   "metadata": {},
   "outputs": [
    {
     "data": {
      "text/plain": [
       "(array([1, 2, 3, 4, 5, 6, 7], dtype=int32),\n",
       " array([   6,    3,    1,    3,    2, 1984,    1], dtype=int64))"
      ]
     },
     "execution_count": 72,
     "metadata": {},
     "output_type": "execute_result"
    }
   ],
   "source": [
    "np.unique(labels_single, return_counts=True)"
   ]
  },
  {
   "cell_type": "code",
   "execution_count": 56,
   "metadata": {},
   "outputs": [
    {
     "data": {
      "image/png": "[encoded data removed]",
      "text/plain": [
       "<Figure size 576x504 with 1 Axes>"
      ]
     },
     "metadata": {},
     "output_type": "display_data"
    }
   ],
   "source": [
    "average_link = linkage(data_dist, method='average')\n",
    "res = dendrogram(average_link, color_threshold=12000, truncate_mode='lastp')"
   ]
  },
  {
   "cell_type": "code",
   "execution_count": 57,
   "metadata": {},
   "outputs": [
    {
     "name": "stdout",
     "output_type": "stream",
     "text": [
      "Silhouette 0.34958181174432473\n"
     ]
    }
   ],
   "source": [
    "labels_average = fcluster(average_link, t=12000, criterion='distance')\n",
    "print('Silhouette %s' % silhouette_score(X, labels_average))"
   ]
  },
  {
   "cell_type": "code",
   "execution_count": 58,
   "metadata": {},
   "outputs": [
    {
     "data": {
      "text/plain": [
       "(array([1, 2, 3, 4, 5, 6], dtype=int32),\n",
       " array([ 424,   47,   26, 1490,    6,    7], dtype=int64))"
      ]
     },
     "execution_count": 58,
     "metadata": {},
     "output_type": "execute_result"
    }
   ],
   "source": [
    "np.unique(labels_average, return_counts=True)"
   ]
  },
  {
   "cell_type": "code",
   "execution_count": 59,
   "metadata": {},
   "outputs": [
    {
     "data": {
      "image/png": "[encoded data removed]",
      "text/plain": [
       "<Figure size 576x504 with 1 Axes>"
      ]
     },
     "metadata": {},
     "output_type": "display_data"
    }
   ],
   "source": [
    "complete_link = linkage(data_dist, method='complete')\n",
    "res = dendrogram(complete_link, color_threshold=25000, truncate_mode='lastp')"
   ]
  },
  {
   "cell_type": "code",
   "execution_count": 60,
   "metadata": {},
   "outputs": [
    {
     "name": "stdout",
     "output_type": "stream",
     "text": [
      "Silhouette 0.29633817202664897\n"
     ]
    }
   ],
   "source": [
    "labels_complete= fcluster(complete_link, t=25000, criterion='distance')\n",
    "print('Silhouette %s' % silhouette_score(X, labels_complete))"
   ]
  },
  {
   "cell_type": "code",
   "execution_count": 73,
   "metadata": {},
   "outputs": [
    {
     "data": {
      "text/plain": [
       "(array([1, 2, 3, 4, 5], dtype=int32),\n",
       " array([  52, 1526,   13,  362,   47], dtype=int64))"
      ]
     },
     "execution_count": 73,
     "metadata": {},
     "output_type": "execute_result"
    }
   ],
   "source": [
    "cu = np.unique(labels_complete, return_counts=True)\n",
    "np.unique(labels_complete, return_counts=True)"
   ]
  },
  {
   "cell_type": "code",
   "execution_count": 62,
   "metadata": {},
   "outputs": [
    {
     "data": {
      "text/plain": [
       "{'Cluster': array([1, 2, 3, 4, 5, 6], dtype=int32),\n",
       " 'Dim': array([ 424,   47,   26, 1490,    6,    7], dtype=int64)}"
      ]
     },
     "execution_count": 62,
     "metadata": {},
     "output_type": "execute_result"
    }
   ],
   "source": [
    "d ={'Cluster': cu[0], 'Dim':cu[1]}\n",
    "d"
   ]
  },
  {
   "cell_type": "code",
   "execution_count": 63,
   "metadata": {},
   "outputs": [],
   "source": [
    "dim = pd.DataFrame(d)"
   ]
  },
  {
   "cell_type": "code",
   "execution_count": 64,
   "metadata": {},
   "outputs": [
    {
     "data": {
      "text/plain": [
       "array([5, 5, 5, ..., 1, 4, 1], dtype=int32)"
      ]
     },
     "execution_count": 64,
     "metadata": {},
     "output_type": "execute_result"
    }
   ],
   "source": [
    "labels_average"
   ]
  },
  {
   "cell_type": "code",
   "execution_count": 65,
   "metadata": {},
   "outputs": [],
   "source": [
    "df['Label'] = labels_average"
   ]
  },
  {
   "cell_type": "code",
   "execution_count": 66,
   "metadata": {},
   "outputs": [
    {
     "data": {
      "text/html": [
       "<div>\n",
       "<style scoped>\n",
       "    .dataframe tbody tr th:only-of-type {\n",
       "        vertical-align: middle;\n",
       "    }\n",
       "\n",
       "    .dataframe tbody tr th {\n",
       "        vertical-align: top;\n",
       "    }\n",
       "\n",
       "    .dataframe thead th {\n",
       "        text-align: right;\n",
       "    }\n",
       "</style>\n",
       "<table border=\"1\" class=\"dataframe\">\n",
       "  <thead>\n",
       "    <tr style=\"text-align: right;\">\n",
       "      <th></th>\n",
       "      <th>IsBadBuy</th>\n",
       "      <th>VehicleAge</th>\n",
       "      <th>VehOdo</th>\n",
       "      <th>VehBCost</th>\n",
       "      <th>WarrantyCost</th>\n",
       "      <th>AverageMMR</th>\n",
       "      <th>Size_class</th>\n",
       "      <th>WheelType</th>\n",
       "      <th>Nationality</th>\n",
       "      <th>SubModel_New</th>\n",
       "      <th>Trim_New</th>\n",
       "    </tr>\n",
       "    <tr>\n",
       "      <th>Label</th>\n",
       "      <th></th>\n",
       "      <th></th>\n",
       "      <th></th>\n",
       "      <th></th>\n",
       "      <th></th>\n",
       "      <th></th>\n",
       "      <th></th>\n",
       "      <th></th>\n",
       "      <th></th>\n",
       "      <th></th>\n",
       "      <th></th>\n",
       "    </tr>\n",
       "  </thead>\n",
       "  <tbody>\n",
       "    <tr>\n",
       "      <th>1</th>\n",
       "      <td>0.000000</td>\n",
       "      <td>3.0</td>\n",
       "      <td>52410.268657</td>\n",
       "      <td>5707.500000</td>\n",
       "      <td>3676.000000</td>\n",
       "      <td>0.000000</td>\n",
       "      <td>1.0</td>\n",
       "      <td>Covers</td>\n",
       "      <td>AMERICAN</td>\n",
       "      <td>SEDAN</td>\n",
       "      <td>Bas</td>\n",
       "    </tr>\n",
       "    <tr>\n",
       "      <th>2</th>\n",
       "      <td>0.000000</td>\n",
       "      <td>2.0</td>\n",
       "      <td>30448.444444</td>\n",
       "      <td>5561.111111</td>\n",
       "      <td>822.000000</td>\n",
       "      <td>12036.111111</td>\n",
       "      <td>1.0</td>\n",
       "      <td>Covers</td>\n",
       "      <td>AMERICAN</td>\n",
       "      <td>SEDAN</td>\n",
       "      <td>Bas</td>\n",
       "    </tr>\n",
       "    <tr>\n",
       "      <th>3</th>\n",
       "      <td>0.500000</td>\n",
       "      <td>8.0</td>\n",
       "      <td>105436.000000</td>\n",
       "      <td>3445.833333</td>\n",
       "      <td>1161.833333</td>\n",
       "      <td>4635.833333</td>\n",
       "      <td>1.0</td>\n",
       "      <td>Alloy</td>\n",
       "      <td>AMERICAN</td>\n",
       "      <td>SEDAN</td>\n",
       "      <td>SE</td>\n",
       "    </tr>\n",
       "    <tr>\n",
       "      <th>4</th>\n",
       "      <td>0.000000</td>\n",
       "      <td>4.0</td>\n",
       "      <td>76265.588235</td>\n",
       "      <td>4104.285714</td>\n",
       "      <td>1974.000000</td>\n",
       "      <td>0.000000</td>\n",
       "      <td>1.0</td>\n",
       "      <td>Alloy</td>\n",
       "      <td>AMERICAN</td>\n",
       "      <td>SEDAN</td>\n",
       "      <td>L</td>\n",
       "    </tr>\n",
       "    <tr>\n",
       "      <th>5</th>\n",
       "      <td>0.041667</td>\n",
       "      <td>7.0</td>\n",
       "      <td>68876.378151</td>\n",
       "      <td>7084.861111</td>\n",
       "      <td>836.050420</td>\n",
       "      <td>8326.615385</td>\n",
       "      <td>1.0</td>\n",
       "      <td>Alloy</td>\n",
       "      <td>AMERICAN</td>\n",
       "      <td>SEDAN</td>\n",
       "      <td>SE</td>\n",
       "    </tr>\n",
       "    <tr>\n",
       "      <th>6</th>\n",
       "      <td>1.000000</td>\n",
       "      <td>2.0</td>\n",
       "      <td>34534.000000</td>\n",
       "      <td>23272.020000</td>\n",
       "      <td>941.000000</td>\n",
       "      <td>36776.750000</td>\n",
       "      <td>3.0</td>\n",
       "      <td>Alloy</td>\n",
       "      <td>OTHER ASIAN</td>\n",
       "      <td>SPORT</td>\n",
       "      <td>Bas</td>\n",
       "    </tr>\n",
       "  </tbody>\n",
       "</table>\n",
       "</div>"
      ],
      "text/plain": [
       "       IsBadBuy  VehicleAge         VehOdo      VehBCost  WarrantyCost  \\\n",
       "Label                                                                    \n",
       "1      0.000000         3.0   52410.268657   5707.500000   3676.000000   \n",
       "2      0.000000         2.0   30448.444444   5561.111111    822.000000   \n",
       "3      0.500000         8.0  105436.000000   3445.833333   1161.833333   \n",
       "4      0.000000         4.0   76265.588235   4104.285714   1974.000000   \n",
       "5      0.041667         7.0   68876.378151   7084.861111    836.050420   \n",
       "6      1.000000         2.0   34534.000000  23272.020000    941.000000   \n",
       "\n",
       "         AverageMMR  Size_class WheelType  Nationality SubModel_New Trim_New  \n",
       "Label                                                                         \n",
       "1          0.000000         1.0    Covers     AMERICAN        SEDAN      Bas  \n",
       "2      12036.111111         1.0    Covers     AMERICAN        SEDAN      Bas  \n",
       "3       4635.833333         1.0     Alloy     AMERICAN        SEDAN       SE  \n",
       "4          0.000000         1.0     Alloy     AMERICAN        SEDAN        L  \n",
       "5       8326.615385         1.0     Alloy     AMERICAN        SEDAN       SE  \n",
       "6      36776.750000         3.0     Alloy  OTHER ASIAN        SPORT      Bas  "
      ]
     },
     "execution_count": 66,
     "metadata": {},
     "output_type": "execute_result"
    }
   ],
   "source": [
    "q = df.groupby(\"Label\").mean()\n",
    "c = df.groupby(['Label']).agg(lambda x:x.value_counts().index[0])\n",
    "c"
   ]
  },
  {
   "cell_type": "code",
   "execution_count": 68,
   "metadata": {},
   "outputs": [
    {
     "data": {
      "text/html": [
       "<div>\n",
       "<style scoped>\n",
       "    .dataframe tbody tr th:only-of-type {\n",
       "        vertical-align: middle;\n",
       "    }\n",
       "\n",
       "    .dataframe tbody tr th {\n",
       "        vertical-align: top;\n",
       "    }\n",
       "\n",
       "    .dataframe thead th {\n",
       "        text-align: right;\n",
       "    }\n",
       "</style>\n",
       "<table border=\"1\" class=\"dataframe\">\n",
       "  <thead>\n",
       "    <tr style=\"text-align: right;\">\n",
       "      <th></th>\n",
       "      <th>WheelType</th>\n",
       "      <th>Nationality</th>\n",
       "      <th>SubModel_New</th>\n",
       "      <th>Trim_New</th>\n",
       "    </tr>\n",
       "    <tr>\n",
       "      <th>Label</th>\n",
       "      <th></th>\n",
       "      <th></th>\n",
       "      <th></th>\n",
       "      <th></th>\n",
       "    </tr>\n",
       "  </thead>\n",
       "  <tbody>\n",
       "    <tr>\n",
       "      <th>1</th>\n",
       "      <td>Covers</td>\n",
       "      <td>AMERICAN</td>\n",
       "      <td>SEDAN</td>\n",
       "      <td>Bas</td>\n",
       "    </tr>\n",
       "    <tr>\n",
       "      <th>2</th>\n",
       "      <td>Covers</td>\n",
       "      <td>AMERICAN</td>\n",
       "      <td>SEDAN</td>\n",
       "      <td>Bas</td>\n",
       "    </tr>\n",
       "    <tr>\n",
       "      <th>3</th>\n",
       "      <td>Alloy</td>\n",
       "      <td>AMERICAN</td>\n",
       "      <td>SEDAN</td>\n",
       "      <td>SE</td>\n",
       "    </tr>\n",
       "    <tr>\n",
       "      <th>4</th>\n",
       "      <td>Alloy</td>\n",
       "      <td>AMERICAN</td>\n",
       "      <td>SEDAN</td>\n",
       "      <td>L</td>\n",
       "    </tr>\n",
       "    <tr>\n",
       "      <th>5</th>\n",
       "      <td>Alloy</td>\n",
       "      <td>AMERICAN</td>\n",
       "      <td>SEDAN</td>\n",
       "      <td>SE</td>\n",
       "    </tr>\n",
       "  </tbody>\n",
       "</table>\n",
       "</div>"
      ],
      "text/plain": [
       "      WheelType Nationality SubModel_New Trim_New\n",
       "Label                                            \n",
       "1        Covers    AMERICAN        SEDAN      Bas\n",
       "2        Covers    AMERICAN        SEDAN      Bas\n",
       "3         Alloy    AMERICAN        SEDAN       SE\n",
       "4         Alloy    AMERICAN        SEDAN        L\n",
       "5         Alloy    AMERICAN        SEDAN       SE"
      ]
     },
     "execution_count": 68,
     "metadata": {},
     "output_type": "execute_result"
    }
   ],
   "source": [
    "c.drop(['IsBadBuy', 'VehicleAge', 'VehOdo', 'VehBCost', 'WarrantyCost', 'AverageMMR', 'Size_class'],\n",
    "      inplace=True, axis=1)\n",
    "c.head()"
   ]
  },
  {
   "cell_type": "code",
   "execution_count": 69,
   "metadata": {},
   "outputs": [
    {
     "data": {
      "text/html": [
       "<div>\n",
       "<style scoped>\n",
       "    .dataframe tbody tr th:only-of-type {\n",
       "        vertical-align: middle;\n",
       "    }\n",
       "\n",
       "    .dataframe tbody tr th {\n",
       "        vertical-align: top;\n",
       "    }\n",
       "\n",
       "    .dataframe thead th {\n",
       "        text-align: right;\n",
       "    }\n",
       "</style>\n",
       "<table border=\"1\" class=\"dataframe\">\n",
       "  <thead>\n",
       "    <tr style=\"text-align: right;\">\n",
       "      <th></th>\n",
       "      <th>IsBadBuy</th>\n",
       "      <th>VehicleAge</th>\n",
       "      <th>VehOdo</th>\n",
       "      <th>VehBCost</th>\n",
       "      <th>WarrantyCost</th>\n",
       "      <th>AverageMMR</th>\n",
       "      <th>Size_class</th>\n",
       "      <th>WheelType</th>\n",
       "      <th>Nationality</th>\n",
       "      <th>SubModel_New</th>\n",
       "      <th>Trim_New</th>\n",
       "      <th>Dim</th>\n",
       "    </tr>\n",
       "    <tr>\n",
       "      <th>Label</th>\n",
       "      <th></th>\n",
       "      <th></th>\n",
       "      <th></th>\n",
       "      <th></th>\n",
       "      <th></th>\n",
       "      <th></th>\n",
       "      <th></th>\n",
       "      <th></th>\n",
       "      <th></th>\n",
       "      <th></th>\n",
       "      <th></th>\n",
       "      <th></th>\n",
       "    </tr>\n",
       "  </thead>\n",
       "  <tbody>\n",
       "    <tr>\n",
       "      <th>6</th>\n",
       "      <td>1.000000</td>\n",
       "      <td>1.928571</td>\n",
       "      <td>21168.785714</td>\n",
       "      <td>33366.574286</td>\n",
       "      <td>960.714286</td>\n",
       "      <td>32669.767857</td>\n",
       "      <td>6.142857</td>\n",
       "      <td>Alloy</td>\n",
       "      <td>OTHER ASIAN</td>\n",
       "      <td>SPORT</td>\n",
       "      <td>Bas</td>\n",
       "      <td>7</td>\n",
       "    </tr>\n",
       "    <tr>\n",
       "      <th>3</th>\n",
       "      <td>0.305282</td>\n",
       "      <td>6.839744</td>\n",
       "      <td>104510.517673</td>\n",
       "      <td>4207.057538</td>\n",
       "      <td>2026.729858</td>\n",
       "      <td>5050.093763</td>\n",
       "      <td>2.282051</td>\n",
       "      <td>Alloy</td>\n",
       "      <td>AMERICAN</td>\n",
       "      <td>SEDAN</td>\n",
       "      <td>SE</td>\n",
       "      <td>26</td>\n",
       "    </tr>\n",
       "    <tr>\n",
       "      <th>2</th>\n",
       "      <td>0.213192</td>\n",
       "      <td>4.053428</td>\n",
       "      <td>26864.318796</td>\n",
       "      <td>6751.002358</td>\n",
       "      <td>878.919695</td>\n",
       "      <td>7951.579139</td>\n",
       "      <td>2.551683</td>\n",
       "      <td>Covers</td>\n",
       "      <td>AMERICAN</td>\n",
       "      <td>SEDAN</td>\n",
       "      <td>Bas</td>\n",
       "      <td>47</td>\n",
       "    </tr>\n",
       "    <tr>\n",
       "      <th>5</th>\n",
       "      <td>0.173312</td>\n",
       "      <td>4.500000</td>\n",
       "      <td>70652.038488</td>\n",
       "      <td>5999.036748</td>\n",
       "      <td>933.029165</td>\n",
       "      <td>6504.110149</td>\n",
       "      <td>2.669643</td>\n",
       "      <td>Alloy</td>\n",
       "      <td>AMERICAN</td>\n",
       "      <td>SEDAN</td>\n",
       "      <td>SE</td>\n",
       "      <td>6</td>\n",
       "    </tr>\n",
       "    <tr>\n",
       "      <th>4</th>\n",
       "      <td>0.149660</td>\n",
       "      <td>4.835662</td>\n",
       "      <td>79085.035762</td>\n",
       "      <td>6931.953411</td>\n",
       "      <td>1500.086474</td>\n",
       "      <td>7986.733215</td>\n",
       "      <td>3.785333</td>\n",
       "      <td>Alloy</td>\n",
       "      <td>AMERICAN</td>\n",
       "      <td>SEDAN</td>\n",
       "      <td>L</td>\n",
       "      <td>1490</td>\n",
       "    </tr>\n",
       "    <tr>\n",
       "      <th>1</th>\n",
       "      <td>0.117022</td>\n",
       "      <td>4.159563</td>\n",
       "      <td>51240.306294</td>\n",
       "      <td>7025.101374</td>\n",
       "      <td>1013.562690</td>\n",
       "      <td>7551.848401</td>\n",
       "      <td>2.865344</td>\n",
       "      <td>Covers</td>\n",
       "      <td>AMERICAN</td>\n",
       "      <td>SEDAN</td>\n",
       "      <td>Bas</td>\n",
       "      <td>424</td>\n",
       "    </tr>\n",
       "  </tbody>\n",
       "</table>\n",
       "</div>"
      ],
      "text/plain": [
       "       IsBadBuy  VehicleAge         VehOdo      VehBCost  WarrantyCost  \\\n",
       "Label                                                                    \n",
       "6      1.000000    1.928571   21168.785714  33366.574286    960.714286   \n",
       "3      0.305282    6.839744  104510.517673   4207.057538   2026.729858   \n",
       "2      0.213192    4.053428   26864.318796   6751.002358    878.919695   \n",
       "5      0.173312    4.500000   70652.038488   5999.036748    933.029165   \n",
       "4      0.149660    4.835662   79085.035762   6931.953411   1500.086474   \n",
       "1      0.117022    4.159563   51240.306294   7025.101374   1013.562690   \n",
       "\n",
       "         AverageMMR  Size_class WheelType  Nationality SubModel_New Trim_New  \\\n",
       "Label                                                                          \n",
       "6      32669.767857    6.142857     Alloy  OTHER ASIAN        SPORT      Bas   \n",
       "3       5050.093763    2.282051     Alloy     AMERICAN        SEDAN       SE   \n",
       "2       7951.579139    2.551683    Covers     AMERICAN        SEDAN      Bas   \n",
       "5       6504.110149    2.669643     Alloy     AMERICAN        SEDAN       SE   \n",
       "4       7986.733215    3.785333     Alloy     AMERICAN        SEDAN        L   \n",
       "1       7551.848401    2.865344    Covers     AMERICAN        SEDAN      Bas   \n",
       "\n",
       "        Dim  \n",
       "Label        \n",
       "6         7  \n",
       "3        26  \n",
       "2        47  \n",
       "5         6  \n",
       "4      1490  \n",
       "1       424  "
      ]
     },
     "execution_count": 69,
     "metadata": {},
     "output_type": "execute_result"
    }
   ],
   "source": [
    "q['Row'] = q.index\n",
    "c['Row'] = c.index\n",
    "clusters = q.join(c.set_index('Row'), on='Row')\n",
    "clusters = clusters.join(dim.set_index('Cluster'), on='Row')\n",
    "clusters.drop(['Row'], axis=1, inplace=True)\n",
    "clusters.sort_values(by=['IsBadBuy'], ascending=False)"
   ]
  },
  {
   "cell_type": "markdown",
   "metadata": {},
   "source": [
    "## DB SCAN"
   ]
  },
  {
   "cell_type": "code",
   "execution_count": 74,
   "metadata": {},
   "outputs": [],
   "source": [
    "dist = squareform(data_dist)"
   ]
  },
  {
   "cell_type": "code",
   "execution_count": 75,
   "metadata": {},
   "outputs": [],
   "source": [
    "k = 4\n",
    "kth_distances = list()\n",
    "for d in dist:\n",
    "    index_kth_distance = np.argsort(d)[k]\n",
    "    kth_distances.append(d[index_kth_distance])"
   ]
  },
  {
   "cell_type": "code",
   "execution_count": 76,
   "metadata": {},
   "outputs": [
    {
     "data": {
      "image/png": "[encoded data removed]",
      "text/plain": [
       "<Figure size 576x504 with 1 Axes>"
      ]
     },
     "metadata": {},
     "output_type": "display_data"
    }
   ],
   "source": [
    "plt.plot(range(0, len(kth_distances)), sorted(kth_distances))\n",
    "plt.ylabel('dist from %sth neighbor' % k, fontsize=18)\n",
    "plt.xlabel('sorted distances', fontsize=18)\n",
    "plt.tick_params(axis='both', which='major', labelsize=22)\n",
    "plt.show()"
   ]
  },
  {
   "cell_type": "code",
   "execution_count": 77,
   "metadata": {},
   "outputs": [
    {
     "data": {
      "text/plain": [
       "DBSCAN(algorithm='auto', eps=1800, leaf_size=30, metric='euclidean',\n",
       "       metric_params=None, min_samples=10, n_jobs=None, p=None)"
      ]
     },
     "execution_count": 77,
     "metadata": {},
     "output_type": "execute_result"
    }
   ],
   "source": [
    "dbscan = DBSCAN(eps=1800, min_samples=10)\n",
    "dbscan.fit(X)"
   ]
  },
  {
   "cell_type": "code",
   "execution_count": 78,
   "metadata": {},
   "outputs": [],
   "source": [
    "dblabels = dbscan.labels_"
   ]
  },
  {
   "cell_type": "code",
   "execution_count": 79,
   "metadata": {},
   "outputs": [
    {
     "data": {
      "text/plain": [
       "(array([-1,  0,  1,  2,  3], dtype=int64),\n",
       " array([ 362, 1619,   10,    6,    3], dtype=int64))"
      ]
     },
     "execution_count": 79,
     "metadata": {},
     "output_type": "execute_result"
    }
   ],
   "source": [
    "np.unique(dbscan.labels_, return_counts=True)"
   ]
  },
  {
   "cell_type": "code",
   "execution_count": 84,
   "metadata": {},
   "outputs": [
    {
     "data": {
      "image/png": "[encoded data removed]",
      "text/plain": [
       "<Figure size 576x504 with 1 Axes>"
      ]
     },
     "metadata": {},
     "output_type": "display_data"
    }
   ],
   "source": [
    "plt.scatter(df['VehOdo'], df['VehBCost'], c=dbscan.labels_, s=20)\n",
    "plt.tick_params(axis='both', which='major', labelsize=22)\n",
    "plt.show()"
   ]
  },
  {
   "cell_type": "code",
   "execution_count": 81,
   "metadata": {},
   "outputs": [
    {
     "data": {
      "text/html": [
       "<div>\n",
       "<style scoped>\n",
       "    .dataframe tbody tr th:only-of-type {\n",
       "        vertical-align: middle;\n",
       "    }\n",
       "\n",
       "    .dataframe tbody tr th {\n",
       "        vertical-align: top;\n",
       "    }\n",
       "\n",
       "    .dataframe thead th {\n",
       "        text-align: right;\n",
       "    }\n",
       "</style>\n",
       "<table border=\"1\" class=\"dataframe\">\n",
       "  <thead>\n",
       "    <tr style=\"text-align: right;\">\n",
       "      <th></th>\n",
       "      <th>IsBadBuy</th>\n",
       "      <th>VehicleAge</th>\n",
       "      <th>VehOdo</th>\n",
       "      <th>VehBCost</th>\n",
       "      <th>WarrantyCost</th>\n",
       "      <th>AverageMMR</th>\n",
       "      <th>Size_class</th>\n",
       "    </tr>\n",
       "    <tr>\n",
       "      <th>Label</th>\n",
       "      <th></th>\n",
       "      <th></th>\n",
       "      <th></th>\n",
       "      <th></th>\n",
       "      <th></th>\n",
       "      <th></th>\n",
       "      <th></th>\n",
       "    </tr>\n",
       "  </thead>\n",
       "  <tbody>\n",
       "    <tr>\n",
       "      <th>-1</th>\n",
       "      <td>0.179764</td>\n",
       "      <td>4.213433</td>\n",
       "      <td>64178.262213</td>\n",
       "      <td>7902.457303</td>\n",
       "      <td>1721.313129</td>\n",
       "      <td>8356.292712</td>\n",
       "      <td>4.074729</td>\n",
       "    </tr>\n",
       "    <tr>\n",
       "      <th>0</th>\n",
       "      <td>0.143226</td>\n",
       "      <td>4.807227</td>\n",
       "      <td>73948.023397</td>\n",
       "      <td>6796.887470</td>\n",
       "      <td>1314.161192</td>\n",
       "      <td>7894.973434</td>\n",
       "      <td>3.429857</td>\n",
       "    </tr>\n",
       "    <tr>\n",
       "      <th>1</th>\n",
       "      <td>0.098895</td>\n",
       "      <td>3.747222</td>\n",
       "      <td>76111.071806</td>\n",
       "      <td>7714.905252</td>\n",
       "      <td>1155.668417</td>\n",
       "      <td>0.020662</td>\n",
       "      <td>4.834199</td>\n",
       "    </tr>\n",
       "    <tr>\n",
       "      <th>2</th>\n",
       "      <td>0.058845</td>\n",
       "      <td>2.000000</td>\n",
       "      <td>43041.364366</td>\n",
       "      <td>7887.240975</td>\n",
       "      <td>930.670124</td>\n",
       "      <td>9611.492721</td>\n",
       "      <td>2.000000</td>\n",
       "    </tr>\n",
       "    <tr>\n",
       "      <th>3</th>\n",
       "      <td>0.102564</td>\n",
       "      <td>6.666667</td>\n",
       "      <td>46947.874237</td>\n",
       "      <td>4723.852259</td>\n",
       "      <td>1107.925519</td>\n",
       "      <td>3448.930556</td>\n",
       "      <td>1.666667</td>\n",
       "    </tr>\n",
       "  </tbody>\n",
       "</table>\n",
       "</div>"
      ],
      "text/plain": [
       "       IsBadBuy  VehicleAge        VehOdo     VehBCost  WarrantyCost  \\\n",
       "Label                                                                  \n",
       "-1     0.179764    4.213433  64178.262213  7902.457303   1721.313129   \n",
       " 0     0.143226    4.807227  73948.023397  6796.887470   1314.161192   \n",
       " 1     0.098895    3.747222  76111.071806  7714.905252   1155.668417   \n",
       " 2     0.058845    2.000000  43041.364366  7887.240975    930.670124   \n",
       " 3     0.102564    6.666667  46947.874237  4723.852259   1107.925519   \n",
       "\n",
       "        AverageMMR  Size_class  \n",
       "Label                           \n",
       "-1     8356.292712    4.074729  \n",
       " 0     7894.973434    3.429857  \n",
       " 1        0.020662    4.834199  \n",
       " 2     9611.492721    2.000000  \n",
       " 3     3448.930556    1.666667  "
      ]
     },
     "execution_count": 81,
     "metadata": {},
     "output_type": "execute_result"
    }
   ],
   "source": [
    "df['Label'] = dblabels\n",
    "q = df.groupby(\"Label\").mean()\n",
    "q "
   ]
  },
  {
   "cell_type": "code",
   "execution_count": 177,
   "metadata": {},
   "outputs": [
    {
     "data": {
      "text/html": [
       "<div>\n",
       "<style scoped>\n",
       "    .dataframe tbody tr th:only-of-type {\n",
       "        vertical-align: middle;\n",
       "    }\n",
       "\n",
       "    .dataframe tbody tr th {\n",
       "        vertical-align: top;\n",
       "    }\n",
       "\n",
       "    .dataframe thead th {\n",
       "        text-align: right;\n",
       "    }\n",
       "</style>\n",
       "<table border=\"1\" class=\"dataframe\">\n",
       "  <thead>\n",
       "    <tr style=\"text-align: right;\">\n",
       "      <th></th>\n",
       "      <th>IsBadBuy</th>\n",
       "      <th>Auction</th>\n",
       "      <th>VehicleAge</th>\n",
       "      <th>VehOdo</th>\n",
       "      <th>VehBCost</th>\n",
       "      <th>WarrantyCost</th>\n",
       "      <th>AverageMMR</th>\n",
       "      <th>Size_class</th>\n",
       "      <th>WheelType</th>\n",
       "      <th>Nationality</th>\n",
       "    </tr>\n",
       "    <tr>\n",
       "      <th>Label</th>\n",
       "      <th></th>\n",
       "      <th></th>\n",
       "      <th></th>\n",
       "      <th></th>\n",
       "      <th></th>\n",
       "      <th></th>\n",
       "      <th></th>\n",
       "      <th></th>\n",
       "      <th></th>\n",
       "      <th></th>\n",
       "    </tr>\n",
       "  </thead>\n",
       "  <tbody>\n",
       "    <tr>\n",
       "      <th>-1</th>\n",
       "      <td>0.179764</td>\n",
       "      <td>0.794529</td>\n",
       "      <td>4.213433</td>\n",
       "      <td>64178.262213</td>\n",
       "      <td>7902.457303</td>\n",
       "      <td>1721.313129</td>\n",
       "      <td>8356.292712</td>\n",
       "      <td>4.074729</td>\n",
       "      <td>Alloy</td>\n",
       "      <td>AMERICAN</td>\n",
       "    </tr>\n",
       "    <tr>\n",
       "      <th>0</th>\n",
       "      <td>0.143226</td>\n",
       "      <td>0.794684</td>\n",
       "      <td>4.807227</td>\n",
       "      <td>73948.023397</td>\n",
       "      <td>6796.887470</td>\n",
       "      <td>1314.161192</td>\n",
       "      <td>7894.973434</td>\n",
       "      <td>3.429857</td>\n",
       "      <td>Alloy</td>\n",
       "      <td>AMERICAN</td>\n",
       "    </tr>\n",
       "    <tr>\n",
       "      <th>3</th>\n",
       "      <td>0.102564</td>\n",
       "      <td>0.839438</td>\n",
       "      <td>6.666667</td>\n",
       "      <td>46947.874237</td>\n",
       "      <td>4723.852259</td>\n",
       "      <td>1107.925519</td>\n",
       "      <td>3448.930556</td>\n",
       "      <td>1.666667</td>\n",
       "      <td>Covers</td>\n",
       "      <td>AMERICAN</td>\n",
       "    </tr>\n",
       "    <tr>\n",
       "      <th>1</th>\n",
       "      <td>0.098895</td>\n",
       "      <td>0.751332</td>\n",
       "      <td>3.747222</td>\n",
       "      <td>76111.071806</td>\n",
       "      <td>7714.905252</td>\n",
       "      <td>1155.668417</td>\n",
       "      <td>0.020662</td>\n",
       "      <td>4.834199</td>\n",
       "      <td>Alloy</td>\n",
       "      <td>AMERICAN</td>\n",
       "    </tr>\n",
       "    <tr>\n",
       "      <th>2</th>\n",
       "      <td>0.058845</td>\n",
       "      <td>0.898757</td>\n",
       "      <td>2.000000</td>\n",
       "      <td>43041.364366</td>\n",
       "      <td>7887.240975</td>\n",
       "      <td>930.670124</td>\n",
       "      <td>9611.492721</td>\n",
       "      <td>2.000000</td>\n",
       "      <td>Covers</td>\n",
       "      <td>AMERICAN</td>\n",
       "    </tr>\n",
       "  </tbody>\n",
       "</table>\n",
       "</div>"
      ],
      "text/plain": [
       "       IsBadBuy   Auction  VehicleAge        VehOdo     VehBCost  \\\n",
       "Label                                                              \n",
       "-1     0.179764  0.794529    4.213433  64178.262213  7902.457303   \n",
       " 0     0.143226  0.794684    4.807227  73948.023397  6796.887470   \n",
       " 3     0.102564  0.839438    6.666667  46947.874237  4723.852259   \n",
       " 1     0.098895  0.751332    3.747222  76111.071806  7714.905252   \n",
       " 2     0.058845  0.898757    2.000000  43041.364366  7887.240975   \n",
       "\n",
       "       WarrantyCost   AverageMMR  Size_class WheelType Nationality  \n",
       "Label                                                               \n",
       "-1      1721.313129  8356.292712    4.074729     Alloy    AMERICAN  \n",
       " 0      1314.161192  7894.973434    3.429857     Alloy    AMERICAN  \n",
       " 3      1107.925519  3448.930556    1.666667    Covers    AMERICAN  \n",
       " 1      1155.668417     0.020662    4.834199     Alloy    AMERICAN  \n",
       " 2       930.670124  9611.492721    2.000000    Covers    AMERICAN  "
      ]
     },
     "execution_count": 177,
     "metadata": {},
     "output_type": "execute_result"
    }
   ],
   "source": [
    "c = df.groupby(['Label']).agg(lambda x:x.value_counts().index[0])\n",
    "c.drop(['IsBadBuy','Auction', 'VehicleAge', 'VehOdo', 'VehBCost', 'WarrantyCost', 'AverageMMR', 'Size_class'],\n",
    "      inplace=True, axis=1)\n",
    "q['Row'] = q.index\n",
    "c['Row'] = c.index\n",
    "clusters = q.join(c.set_index('Row'), on='Row')\n",
    "clusters.drop(['Row'], axis=1, inplace=True)\n",
    "clusters.sort_values(by=['IsBadBuy'], ascending=False)"
   ]
  }
 ],
 "metadata": {
  "kernelspec": {
   "display_name": "Python 3",
   "language": "python",
   "name": "python3"
  },
  "language_info": {
   "codemirror_mode": {
    "name": "ipython",
    "version": 3
   },
   "file_extension": ".py",
   "mimetype": "text/x-python",
   "name": "python",
   "nbconvert_exporter": "python",
   "pygments_lexer": "ipython3",
   "version": "3.7.6"
  }
 },
 "nbformat": 4,
 "nbformat_minor": 2
}
